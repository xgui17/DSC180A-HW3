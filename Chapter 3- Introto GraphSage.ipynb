{
 "cells": [
  {
   "cell_type": "markdown",
   "id": "7d2fe012-e719-4053-a358-a0ad1df829af",
   "metadata": {},
   "source": [
    "# Assigment 3 - GraphSage"
   ]
  },
  {
   "cell_type": "markdown",
   "id": "1d1d6ac0-0ace-4b4a-8d18-d0f06451e87b",
   "metadata": {},
   "source": [
    "For this assignment, we'll go through a simple example of how to use GraphSage's algorithm in a similar fashion as [Assignment 1](https://github.com/thmosqueiro/graph-attention-net-genomics-public/blob/main/notebooks/Chapter%201%20-%20Pytorch%20Intro.ipynb). Like before, getting 10 pts in this assignment gives you 100% grade. There are two extra points you can get if you want to go above and beyond (or if you want to catch up from a previous assignment).\n",
    "\n",
    "For more info:\n",
    "* https://snap.stanford.edu/graphsage/\n",
    "* https://arxiv.org/pdf/1706.02216\n",
    "\n",
    "The original publication uses Tensorflow. PyG (Pytorch Geommetric) implements solutions for Graph NNs, and include GraphSage:\n",
    "* https://pytorch-geometric.readthedocs.io/en/latest/generated/torch_geometric.nn.models.GraphSAGE.html\n",
    "Here's their implementation of GraphSage (which is reproduced below):\n",
    "* https://pytorch-geometric.readthedocs.io/en/latest/_modules/torch_geometric/nn/models/basic_gnn.html#GraphSAGE"
   ]
  },
  {
   "cell_type": "markdown",
   "id": "e3bfcba1-b59f-403c-b51c-3ed4f70ad890",
   "metadata": {},
   "source": [
    "In case you need to install pyg:"
   ]
  },
  {
   "cell_type": "code",
   "execution_count": null,
   "id": "d38f14e0-c991-46a8-86bd-b33f986c06f9",
   "metadata": {},
   "outputs": [],
   "source": [
    "pip install torch_geometric"
   ]
  },
  {
   "cell_type": "code",
   "execution_count": 1,
   "id": "a367eec6-b61f-4e81-bf21-2f7896224fd2",
   "metadata": {},
   "outputs": [],
   "source": [
    "# imports\n",
    "import torch\n",
    "import torch.nn.functional as F\n",
    "from torch_geometric.nn import SAGEConv\n",
    "from torch_geometric.datasets import Planetoid\n",
    "from torch_geometric.loader import DataLoader"
   ]
  },
  {
   "cell_type": "code",
   "execution_count": 3,
   "id": "a8807a40-1496-45e0-a136-7f6ec5a8336a",
   "metadata": {},
   "outputs": [],
   "source": [
    "# model definition\n",
    "class GraphSAGE(torch.nn.Module):\n",
    "    def __init__(self, in_channels, out_channels):\n",
    "        super().__init__()\n",
    "        self.conv = SAGEConv(in_channels, out_channels)\n",
    "\n",
    "    def forward(self, data):\n",
    "        x, edge_index = data.x, data.edge_index\n",
    "        x = self.conv(x, edge_index)\n",
    "        return F.log_softmax(x, dim=1)"
   ]
  },
  {
   "cell_type": "code",
   "execution_count": 18,
   "id": "fe455975-7fc4-4482-a272-7c6044d97e81",
   "metadata": {},
   "outputs": [],
   "source": [
    "# dataset\n",
    "dataset = Planetoid(root='/tmp/Cora', name='Cora')"
   ]
  },
  {
   "cell_type": "markdown",
   "id": "46fd40f3-eca1-42fe-97a6-0fae9c55f211",
   "metadata": {},
   "source": [
    "* **Question 1 (1 pt):** Visualize the training data using a classical dimensionality reduction technique."
   ]
  },
  {
   "cell_type": "markdown",
   "id": "9a53d9fe-2823-4ec7-8bc4-fc1b9d644dd8",
   "metadata": {},
   "source": [
    "Use `device = torch.device('cuda' if torch.cuda.is_available() else 'cpu')` if you'd like to use CUDA."
   ]
  },
  {
   "cell_type": "code",
   "execution_count": 27,
   "id": "7739e3df-393f-432a-9708-320413abf29a",
   "metadata": {},
   "outputs": [],
   "source": [
    "# Setting up the model\n",
    "model = GraphSAGE(dataset.num_node_features, dataset.num_classes)\n",
    "optimizer = torch.optim.Adam(model.parameters(), lr=0.01, weight_decay=5e-4)"
   ]
  },
  {
   "cell_type": "markdown",
   "id": "819d81ab-2220-4d9f-95e6-6dc1eb55fa7f",
   "metadata": {},
   "source": [
    "* **Question 2 (1 pt):** What's \"weight decay\"?"
   ]
  },
  {
   "cell_type": "code",
   "execution_count": 28,
   "id": "9007c216-f3ef-4c9c-b9ac-e0af13ffe9a2",
   "metadata": {},
   "outputs": [],
   "source": [
    "# Defining a training step\n",
    "def train():\n",
    "    model.train()\n",
    "    optimizer.zero_grad()\n",
    "    out = model(dataset.data)\n",
    "    loss = F.nll_loss(out[dataset.data.train_mask], dataset.data.y[dataset.data.train_mask])\n",
    "    loss.backward()\n",
    "    optimizer.step()\n",
    "\n",
    "# Defining a test step\n",
    "def test():\n",
    "    model.eval()\n",
    "    with torch.no_grad():\n",
    "        out = model(dataset.data)\n",
    "        pred = out.argmax(dim=1)\n",
    "        flag_is_correct = pred[dataset.data.test_mask] == dataset.data.y[dataset.data.test_mask]\n",
    "        acc = int(flag_is_correct.sum()) / int(dataset.data.test_mask.sum())\n",
    "        return acc"
   ]
  },
  {
   "cell_type": "code",
   "execution_count": 29,
   "id": "e503a493-1178-4996-9e80-065737fed130",
   "metadata": {},
   "outputs": [
    {
     "name": "stdout",
     "output_type": "stream",
     "text": [
      "Accuracy: 0.5120\n"
     ]
    }
   ],
   "source": [
    "# Run one iteration\n",
    "train()\n",
    "acc = test()\n",
    "print(f'Accuracy: {acc:.4f}')"
   ]
  },
  {
   "cell_type": "code",
   "execution_count": 30,
   "id": "b0529821-29a3-4e70-a8d9-ed8af381f333",
   "metadata": {},
   "outputs": [
    {
     "name": "stdout",
     "output_type": "stream",
     "text": [
      "Accuracy on epoch 1: 0.632\n",
      "Accuracy on epoch 2: 0.661\n",
      "Accuracy on epoch 3: 0.68\n",
      "Accuracy on epoch 4: 0.68\n",
      "Accuracy on epoch 5: 0.684\n",
      "Accuracy on epoch 6: 0.686\n",
      "Accuracy on epoch 7: 0.693\n",
      "Accuracy on epoch 8: 0.699\n",
      "Accuracy on epoch 9: 0.699\n",
      "Accuracy on epoch 10: 0.701\n",
      "Accuracy on epoch 11: 0.699\n",
      "Accuracy on epoch 12: 0.698\n",
      "Accuracy on epoch 13: 0.695\n",
      "Accuracy on epoch 14: 0.698\n",
      "Accuracy on epoch 15: 0.7\n",
      "Accuracy on epoch 16: 0.697\n",
      "Accuracy on epoch 17: 0.697\n",
      "Accuracy on epoch 18: 0.698\n",
      "Accuracy on epoch 19: 0.701\n",
      "Accuracy on epoch 20: 0.701\n",
      "Accuracy on epoch 21: 0.7\n",
      "Accuracy on epoch 22: 0.7\n",
      "Accuracy on epoch 23: 0.7\n",
      "Accuracy on epoch 24: 0.701\n",
      "Accuracy on epoch 25: 0.702\n",
      "Accuracy on epoch 26: 0.699\n",
      "Accuracy on epoch 27: 0.699\n",
      "Accuracy on epoch 28: 0.698\n",
      "Accuracy on epoch 29: 0.698\n",
      "Accuracy on epoch 30: 0.7\n",
      "Accuracy on epoch 31: 0.701\n",
      "Accuracy on epoch 32: 0.701\n",
      "Accuracy on epoch 33: 0.701\n",
      "Accuracy on epoch 34: 0.704\n",
      "Accuracy on epoch 35: 0.703\n",
      "Accuracy on epoch 36: 0.703\n",
      "Accuracy on epoch 37: 0.706\n",
      "Accuracy on epoch 38: 0.708\n",
      "Accuracy on epoch 39: 0.708\n",
      "Accuracy on epoch 40: 0.709\n",
      "Accuracy on epoch 41: 0.708\n",
      "Accuracy on epoch 42: 0.707\n",
      "Accuracy on epoch 43: 0.707\n",
      "Accuracy on epoch 44: 0.706\n",
      "Accuracy on epoch 45: 0.709\n",
      "Accuracy on epoch 46: 0.709\n",
      "Accuracy on epoch 47: 0.707\n",
      "Accuracy on epoch 48: 0.707\n",
      "Accuracy on epoch 49: 0.705\n",
      "Accuracy on epoch 50: 0.705\n",
      "Accuracy on epoch 51: 0.705\n",
      "Accuracy on epoch 52: 0.707\n",
      "Accuracy on epoch 53: 0.707\n",
      "Accuracy on epoch 54: 0.706\n",
      "Accuracy on epoch 55: 0.706\n",
      "Accuracy on epoch 56: 0.708\n",
      "Accuracy on epoch 57: 0.706\n",
      "Accuracy on epoch 58: 0.706\n",
      "Accuracy on epoch 59: 0.708\n",
      "Accuracy on epoch 60: 0.707\n",
      "Accuracy on epoch 61: 0.707\n",
      "Accuracy on epoch 62: 0.708\n",
      "Accuracy on epoch 63: 0.708\n",
      "Accuracy on epoch 64: 0.71\n",
      "Accuracy on epoch 65: 0.711\n",
      "Accuracy on epoch 66: 0.711\n",
      "Accuracy on epoch 67: 0.71\n",
      "Accuracy on epoch 68: 0.712\n",
      "Accuracy on epoch 69: 0.712\n",
      "Accuracy on epoch 70: 0.712\n",
      "Accuracy on epoch 71: 0.713\n",
      "Accuracy on epoch 72: 0.714\n",
      "Accuracy on epoch 73: 0.714\n",
      "Accuracy on epoch 74: 0.714\n",
      "Accuracy on epoch 75: 0.714\n",
      "Accuracy on epoch 76: 0.715\n",
      "Accuracy on epoch 77: 0.715\n",
      "Accuracy on epoch 78: 0.714\n",
      "Accuracy on epoch 79: 0.714\n",
      "Accuracy on epoch 80: 0.713\n",
      "Accuracy on epoch 81: 0.713\n",
      "Accuracy on epoch 82: 0.713\n",
      "Accuracy on epoch 83: 0.713\n",
      "Accuracy on epoch 84: 0.714\n",
      "Accuracy on epoch 85: 0.715\n",
      "Accuracy on epoch 86: 0.716\n",
      "Accuracy on epoch 87: 0.716\n",
      "Accuracy on epoch 88: 0.717\n",
      "Accuracy on epoch 89: 0.717\n",
      "Accuracy on epoch 90: 0.721\n",
      "Accuracy on epoch 91: 0.721\n",
      "Accuracy on epoch 92: 0.721\n",
      "Accuracy on epoch 93: 0.721\n",
      "Accuracy on epoch 94: 0.721\n",
      "Accuracy on epoch 95: 0.72\n",
      "Accuracy on epoch 96: 0.72\n",
      "Accuracy on epoch 97: 0.72\n",
      "Accuracy on epoch 98: 0.72\n",
      "Accuracy on epoch 99: 0.719\n",
      "Accuracy on epoch 100: 0.719\n"
     ]
    }
   ],
   "source": [
    "# Run for a few epochs:\n",
    "accuracy = []\n",
    "for epoch in range(100):\n",
    "    train()\n",
    "    accuracy.append(test())\n",
    "    print(f'Accuracy on epoch {epoch+1}: {accuracy[-1]}')"
   ]
  },
  {
   "cell_type": "code",
   "execution_count": 31,
   "id": "8ac483c7-1c11-4412-b5ca-a83bdbd113da",
   "metadata": {},
   "outputs": [
    {
     "data": {
      "image/png": "[encoded data removed]",
      "text/plain": [
       "<Figure size 400x250 with 1 Axes>"
      ]
     },
     "metadata": {},
     "output_type": "display_data"
    }
   ],
   "source": [
    "import pylab as pl\n",
    "f, ax = pl.subplots(1, 1, figsize=(4, 2.5))\n",
    "ax.plot(accuracy, '-')\n",
    "ax.set_xlabel(\"Epoch\", fontsize=13)\n",
    "ax.set_ylabel(\"Accuracy\", fontsize=13)\n",
    "pl.show()"
   ]
  },
  {
   "cell_type": "markdown",
   "id": "a576ca21-7d31-4936-851c-2fb319393e9e",
   "metadata": {},
   "source": [
    "## Questions"
   ]
  },
  {
   "cell_type": "markdown",
   "id": "26d21dc2-b736-435a-8090-68b905c2e76c",
   "metadata": {},
   "source": [
    "* **Question 3 (1 pt):** Is this model predicting all classes equally well? Demonstrate differences by using any well known way of quantifying accuracy across multiple classes. (confusion matrix)\n",
    "\n",
    "* **Question 4 (1 pt):** Compare this GraphSage with models from Weekly Assignment 2.\n",
    "\n",
    "* **Question 5 (2 pt):** Change the aggregation function to `max`. What's the default?\n",
    "\n",
    "* **Question 6 (2 pt):** Add one more layer to the model and investigate the performance change.\n",
    "\n",
    "* **Question 7 (2 pt):** Add drop-out to this NN and show the impact to performance. How does it change the ROC curve.\n",
    "\n",
    "* **Question 8 (4 pt):** Instead of using the Cora dataset, apply GraphSage to any other dataset of your choice. (UCI database)\n"
   ]
  },
  {
   "cell_type": "markdown",
   "id": "c9b57fd2-bf23-4ce3-bfad-d4b4c68b130a",
   "metadata": {},
   "source": [
    "Good luck! :)"
   ]
  }
 ],
 "metadata": {
  "kernelspec": {
   "display_name": "Python 3 (ipykernel)",
   "language": "python",
   "name": "python3"
  },
  "language_info": {
   "codemirror_mode": {
    "name": "ipython",
    "version": 3
   },
   "file_extension": ".py",
   "mimetype": "text/x-python",
   "name": "python",
   "nbconvert_exporter": "python",
   "pygments_lexer": "ipython3",
   "version": "3.10.14"
  }
 },
 "nbformat": 4,
 "nbformat_minor": 5
}
